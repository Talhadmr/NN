{
  "nbformat": 4,
  "nbformat_minor": 0,
  "metadata": {
    "colab": {
      "provenance": [],
      "authorship_tag": "ABX9TyNceuijb4O4MisrZwTHUT+k",
      "include_colab_link": true
    },
    "kernelspec": {
      "name": "python3",
      "display_name": "Python 3"
    },
    "language_info": {
      "name": "python"
    }
  },
  "cells": [
    {
      "cell_type": "markdown",
      "metadata": {
        "id": "view-in-github",
        "colab_type": "text"
      },
      "source": [
        "<a href=\"https://colab.research.google.com/github/Talhadmr/NN/blob/main/fashion_mnst.ipynb\" target=\"_parent\"><img src=\"https://colab.research.google.com/assets/colab-badge.svg\" alt=\"Open In Colab\"/></a>"
      ]
    },
    {
      "cell_type": "code",
      "execution_count": 1,
      "metadata": {
        "colab": {
          "base_uri": "https://localhost:8080/"
        },
        "id": "ofopqIlYqIDu",
        "outputId": "608f55a4-682f-49f6-cc1f-3f64ca925707"
      },
      "outputs": [
        {
          "output_type": "stream",
          "name": "stdout",
          "text": [
            "Downloading data from https://storage.googleapis.com/tensorflow/tf-keras-datasets/train-labels-idx1-ubyte.gz\n",
            "29515/29515 [==============================] - 0s 0us/step\n",
            "Downloading data from https://storage.googleapis.com/tensorflow/tf-keras-datasets/train-images-idx3-ubyte.gz\n",
            "26421880/26421880 [==============================] - 1s 0us/step\n",
            "Downloading data from https://storage.googleapis.com/tensorflow/tf-keras-datasets/t10k-labels-idx1-ubyte.gz\n",
            "5148/5148 [==============================] - 0s 0us/step\n",
            "Downloading data from https://storage.googleapis.com/tensorflow/tf-keras-datasets/t10k-images-idx3-ubyte.gz\n",
            "4422102/4422102 [==============================] - 0s 0us/step\n",
            "Train images shape: (60000, 28, 28)\n",
            "Train labels shape: (60000,)\n",
            "Test images shape: (10000, 28, 28)\n",
            "Test labels shape: (10000,)\n",
            "Epoch 1/10\n",
            "1688/1688 [==============================] - 12s 6ms/step - loss: 0.5057 - accuracy: 0.8229 - val_loss: 0.4383 - val_accuracy: 0.8400\n",
            "Epoch 2/10\n",
            "1688/1688 [==============================] - 7s 4ms/step - loss: 0.3779 - accuracy: 0.8641 - val_loss: 0.3641 - val_accuracy: 0.8693\n",
            "Epoch 3/10\n",
            "1688/1688 [==============================] - 6s 4ms/step - loss: 0.3350 - accuracy: 0.8781 - val_loss: 0.3495 - val_accuracy: 0.8717\n",
            "Epoch 4/10\n",
            "1688/1688 [==============================] - 5s 3ms/step - loss: 0.3128 - accuracy: 0.8850 - val_loss: 0.3309 - val_accuracy: 0.8743\n",
            "Epoch 5/10\n",
            "1688/1688 [==============================] - 6s 3ms/step - loss: 0.2929 - accuracy: 0.8920 - val_loss: 0.3114 - val_accuracy: 0.8872\n",
            "Epoch 6/10\n",
            "1688/1688 [==============================] - 6s 3ms/step - loss: 0.2774 - accuracy: 0.8974 - val_loss: 0.3252 - val_accuracy: 0.8772\n",
            "Epoch 7/10\n",
            "1688/1688 [==============================] - 5s 3ms/step - loss: 0.2664 - accuracy: 0.9013 - val_loss: 0.3269 - val_accuracy: 0.8803\n",
            "Epoch 8/10\n",
            "1688/1688 [==============================] - 6s 4ms/step - loss: 0.2551 - accuracy: 0.9045 - val_loss: 0.3168 - val_accuracy: 0.8827\n",
            "Epoch 9/10\n",
            "1688/1688 [==============================] - 5s 3ms/step - loss: 0.2441 - accuracy: 0.9096 - val_loss: 0.3210 - val_accuracy: 0.8880\n",
            "Epoch 10/10\n",
            "1688/1688 [==============================] - 6s 4ms/step - loss: 0.2353 - accuracy: 0.9116 - val_loss: 0.3169 - val_accuracy: 0.8865\n",
            "313/313 [==============================] - 1s 2ms/step - loss: 0.3424 - accuracy: 0.8810\n",
            "Test accuracy: 0.8809999823570251\n"
          ]
        }
      ],
      "source": [
        "import numpy as np\n",
        "import tensorflow as tf\n",
        "from tensorflow import keras\n",
        "from tensorflow.keras import layers\n",
        "\n",
        "# Veri setini yükleme\n",
        "fashion_mnist = keras.datasets.fashion_mnist\n",
        "(train_images, train_labels), (test_images, test_labels) = fashion_mnist.load_data()\n",
        "\n",
        "# Veri setinin şeklini ve boyutunu kontrol etme\n",
        "print(\"Train images shape:\", train_images.shape)\n",
        "print(\"Train labels shape:\", train_labels.shape)\n",
        "print(\"Test images shape:\", test_images.shape)\n",
        "print(\"Test labels shape:\", test_labels.shape)\n",
        "\n",
        "# Veri setini normalize etme\n",
        "train_images = train_images.astype('float32') / 255.0\n",
        "test_images = test_images.astype('float32') / 255.0\n",
        "\n",
        "# Model oluşturma\n",
        "model = keras.Sequential([\n",
        "    layers.Flatten(input_shape=(28, 28)),  # Girdi katmanı (28x28 piksel)\n",
        "    layers.Dense(128, activation='relu'),  # Tam bağlantılı katman (128 nöron, ReLU aktivasyonu)\n",
        "    layers.Dense(10, activation='softmax')  # Çıkış katmanı (10 sınıf, softmax aktivasyonu)\n",
        "])\n",
        "\n",
        "# Modeli derleme\n",
        "model.compile(optimizer='adam',\n",
        "              loss='sparse_categorical_crossentropy',\n",
        "              metrics=['accuracy'])\n",
        "\n",
        "# Modeli eğitme\n",
        "model.fit(train_images, train_labels, epochs=10, batch_size=32, validation_split=0.1)\n",
        "\n",
        "# Modeli değerlendirme\n",
        "test_loss, test_acc = model.evaluate(test_images, test_labels)\n",
        "print('Test accuracy:', test_acc)\n"
      ]
    },
    {
      "cell_type": "code",
      "source": [],
      "metadata": {
        "id": "Pi3kNF0rqR6W"
      },
      "execution_count": null,
      "outputs": []
    }
  ]
}